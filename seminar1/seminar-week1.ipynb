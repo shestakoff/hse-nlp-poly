{
 "cells": [
  {
   "cell_type": "markdown",
   "metadata": {},
   "source": [
    "<center><img src=\"img/logo_hse_black.jpg\"></center>\n",
    "\n",
    "<h1><center>Natural Language Processing</center></h1>\n",
    "<h2><center>Week1 Seminar - intro to TensorFlow</center></h2>"
   ]
  },
  {
   "cell_type": "code",
   "execution_count": null,
   "metadata": {},
   "outputs": [],
   "source": [
    "%matplotlib inline"
   ]
  },
  {
   "cell_type": "code",
   "execution_count": null,
   "metadata": {},
   "outputs": [],
   "source": [
    "import pandas as pd\n",
    "import numpy as np\n",
    "import matplotlib.pyplot as plt\n",
    "\n",
    "plt.style.use('ggplot')\n",
    "plt.rcParams['figure.figsize'] = (12,8)"
   ]
  },
  {
   "cell_type": "markdown",
   "metadata": {},
   "source": [
    "<center><img src='./img/tf.png'></center>"
   ]
  },
  {
   "cell_type": "markdown",
   "metadata": {},
   "source": [
    "## TL;DR:\n",
    "**TensorFlow** - библиотека для эффективного выполнения численных операций на графах вычислений \n",
    "\n",
    "Чтобы написать модель на TF надо\n",
    "\n",
    "1. Сформировать граф вычислений (что на входе, что на выходе, как считать функцию потерь)\n",
    "2. Запустить сессию по расчету графа (выделить память, подать на вход данные)\n",
    "3. Немножно подождать.."
   ]
  },
  {
   "cell_type": "markdown",
   "metadata": {},
   "source": [
    "Tensor - основной объект, над которыми производяться операции в TF. С математической точки зрения, тензор = многомерный массив\n",
    "* 0-мерный тензор = число\n",
    "* 1-мерный тензор = вектор\n",
    "* 2-мерный тензор = матрица\n",
    "* n-мерный тензор = .. тензор\n",
    "\n",
    "С помощью команд, вы задаете операции над тензорами, результатом которых являются тоже тензоры"
   ]
  },
  {
   "cell_type": "code",
   "execution_count": null,
   "metadata": {},
   "outputs": [],
   "source": [
    "import tensorflow as tf"
   ]
  },
  {
   "cell_type": "code",
   "execution_count": null,
   "metadata": {},
   "outputs": [],
   "source": [
    "s1 = tf.Variable(2, dtype=tf.int32, name=\"scalar1\") \n",
    "s2 = tf.Variable(3, name=\"scalar2\") \n",
    "m = tf.Variable([[0, 1], [1, 2]], name=\"matrix\") \n",
    "M = tf.Variable(tf.zeros([1000,8]))\n",
    "M2 = tf.get_variable('another_matrix', \n",
    "                     dtype=tf.float32, \n",
    "                     initializer=tf.zeros([1000,8])) # Еще один, более совеременный вариант"
   ]
  },
  {
   "cell_type": "code",
   "execution_count": null,
   "metadata": {},
   "outputs": [],
   "source": [
    "print(s1)"
   ]
  },
  {
   "cell_type": "markdown",
   "metadata": {},
   "source": [
    "### Запускаем первый граф вычислений"
   ]
  },
  {
   "cell_type": "code",
   "execution_count": null,
   "metadata": {},
   "outputs": [],
   "source": [
    "summ = s1+s2"
   ]
  },
  {
   "cell_type": "code",
   "execution_count": null,
   "metadata": {},
   "outputs": [],
   "source": [
    "summ"
   ]
  },
  {
   "cell_type": "markdown",
   "metadata": {},
   "source": [
    "`summ` - есмь граф вычислений. \n",
    "\n",
    "Надо запустить сессию, для его расчета"
   ]
  },
  {
   "cell_type": "code",
   "execution_count": null,
   "metadata": {},
   "outputs": [],
   "source": [
    "with tf.Session() as sess:\n",
    "    sess.run(tf.global_variables_initializer())\n",
    "    print(sess.run(summ))"
   ]
  },
  {
   "cell_type": "code",
   "execution_count": null,
   "metadata": {},
   "outputs": [],
   "source": [
    "summ.get_shape()"
   ]
  },
  {
   "cell_type": "code",
   "execution_count": null,
   "metadata": {},
   "outputs": [],
   "source": [
    "M.get_shape()"
   ]
  },
  {
   "cell_type": "markdown",
   "metadata": {},
   "source": [
    "Полный список математических операций можно найти [тут](https://www.tensorflow.org/api_docs/python/tf/math). А пока, давайте посмотрим на матричное уможение"
   ]
  },
  {
   "cell_type": "code",
   "execution_count": null,
   "metadata": {},
   "outputs": [],
   "source": [
    "a = tf.constant([1, 2], name='a')\n",
    "b = tf.constant([5, 2], name='b')\n",
    "with tf.Session() as sess:\n",
    "    print(sess.run(tf.multiply(a, b)))           \n",
    "    print(sess.run(tf.tensordot(a, b, 1)))"
   ]
  },
  {
   "cell_type": "code",
   "execution_count": null,
   "metadata": {},
   "outputs": [],
   "source": [
    "A = tf.constant([[1, 2], \n",
    "                 [3, 4]], \n",
    "                name='a')\n",
    "with tf.Session() as sess:\n",
    "    print(sess.run(tf.multiply(A, b)))           \n",
    "    print(sess.run(tf.multiply(b, A)))           \n",
    "    print(sess.run(tf.tensordot(A, b, 1)))\n",
    "    print(sess.run(tf.tensordot(b, A, 1)))\n",
    "    print(sess.run(tf.tensordot(A, A, 1)))"
   ]
  },
  {
   "cell_type": "code",
   "execution_count": null,
   "metadata": {},
   "outputs": [],
   "source": [
    "A = tf.constant([[1, 2], \n",
    "                 [3, 4]], \n",
    "                name='a')\n",
    "b = tf.constant([[5, 2]], name='b')\n",
    "with tf.Session() as sess:\n",
    "    print(sess.run(tf.matmul(b, A)))           \n",
    "    print(sess.run(tf.matmul(A, b)))           "
   ]
  },
  {
   "cell_type": "markdown",
   "metadata": {},
   "source": [
    "### Типы тензоров"
   ]
  },
  {
   "cell_type": "markdown",
   "metadata": {},
   "source": [
    "* `tf.constant` - неизменяемые тензора, хранятся вместе с графом вычислений (плохо если они \"тяжелые\")\n",
    "* `tf.Variable` - \"переменные\", обычно инициализируемые некоторым значением. Обычно язвляются обучаемыми переменными\n",
    "* `tf.placeholder` - \"заглушки\". С их помощью мы можем заранее задать граф вычислений, но подавать данные уже после запуска сессии\n",
    "* `tf.SparseTensor` - разреженный тензор"
   ]
  },
  {
   "cell_type": "markdown",
   "metadata": {},
   "source": [
    "## С коробля на бал"
   ]
  },
  {
   "cell_type": "markdown",
   "metadata": {},
   "source": [
    "Вспомним данные, которые у нас были [тут](https://nbviewer.jupyter.org/github/shestakoff/hse-ml-poly/blob/master/2018-10/s4-linear/seminar-linear-proc.ipynb)"
   ]
  },
  {
   "cell_type": "code",
   "execution_count": null,
   "metadata": {},
   "outputs": [],
   "source": [
    "!wget https://www.dropbox.com/s/74c6mg219jnoa4k/accord_sedan_training.csv?dl=0 -O ./accord_sedan_training.csv    "
   ]
  },
  {
   "cell_type": "code",
   "execution_count": null,
   "metadata": {},
   "outputs": [],
   "source": [
    "# Чтобы получать доступ к файлам, которые есть у вас на Google Drive\n",
    "# from google.colab import drive\n",
    "# drive.mount('/content/drive')\n"
   ]
  },
  {
   "cell_type": "code",
   "execution_count": null,
   "metadata": {},
   "outputs": [],
   "source": [
    "df_train = pd.read_csv('./accord_sedan_training.csv')"
   ]
  },
  {
   "cell_type": "code",
   "execution_count": null,
   "metadata": {},
   "outputs": [],
   "source": [
    "X_train = df_train.mileage.values.copy()\n",
    "# X_train = (X_train - X_train.mean())/X_train.std()\n",
    "\n",
    "y_train = df_train.price.values.copy()"
   ]
  },
  {
   "cell_type": "markdown",
   "metadata": {},
   "source": [
    "Попробуем обучить модель вида \n",
    "`price = b + w*mileage`\n",
    "\n",
    "Давайте прикинем типы \"тензоров\" данного графа вычислений\n"
   ]
  },
  {
   "cell_type": "code",
   "execution_count": null,
   "metadata": {},
   "outputs": [],
   "source": [
    "tf.reset_default_graph()\n",
    "y_input = ..\n",
    "x_input = ..\n",
    "\n",
    "b = ..\n",
    "W = .."
   ]
  },
  {
   "cell_type": "code",
   "execution_count": null,
   "metadata": {},
   "outputs": [],
   "source": [
    "price = W*x_input+b"
   ]
  },
  {
   "cell_type": "markdown",
   "metadata": {},
   "source": [
    "Пробуем вычислить price"
   ]
  },
  {
   "cell_type": "code",
   "execution_count": null,
   "metadata": {},
   "outputs": [],
   "source": [
    "with tf.Session() as sess:\n",
    "    sess.run(tf.global_variables_initializer())\n",
    "    price_vals = sess.run(price, feed_dict = {x_input: X_train})"
   ]
  },
  {
   "cell_type": "markdown",
   "metadata": {},
   "source": [
    "А теперь сделаем обучение линейной регрессии!\n",
    "\n",
    "Challange - вспомнить и написать функцию потерь линейной регрессии с регуляризацией!\n",
    "\n",
    "HINT: \n",
    "* `tf.reduce_mean`\n",
    "* `tf.pow`\n",
    "* `tf.squeeze`\n",
    "* `tf.squared_difference`\n",
    "* `tf.square`"
   ]
  },
  {
   "cell_type": "code",
   "execution_count": null,
   "metadata": {},
   "outputs": [],
   "source": [
    "loss = tf.reduce_mean(tf.squared_difference(y_input,price))"
   ]
  },
  {
   "cell_type": "markdown",
   "metadata": {},
   "source": [
    "После того, как вы задали loss, TF надо сказать каким методом ее оптимизировать, и всякие производные и обновления он сделает за вас!\n",
    "\n",
    "Оптимизаторы можно найти в подмодуле `train` - обычно они заканчиваются на Optimizer"
   ]
  },
  {
   "cell_type": "code",
   "execution_count": null,
   "metadata": {},
   "outputs": [],
   "source": [
    "optimizer = tf.train.AdamOptimizer(learning_rate=1.).minimize(loss)"
   ]
  },
  {
   "cell_type": "markdown",
   "metadata": {},
   "source": [
    "Теперь вызовем сессию, которая будет исполнять граф вычислений для loss и optimizer 100 раз и выводить loss"
   ]
  },
  {
   "cell_type": "code",
   "execution_count": null,
   "metadata": {
    "scrolled": true
   },
   "outputs": [],
   "source": [
    "num_steps = 100000\n",
    "batch_size = 64\n",
    "n = X_train.shape[0]\n",
    "\n",
    "with tf.Session() as sess:\n",
    "    \n",
    "    # Инициализируем переменные\n",
    "    init = tf.global_variables_initializer()\n",
    "    sess.run(init)\n",
    "    \n",
    "    # В цикле по количеству итераций\n",
    "    for i in range(num_steps):\n",
    "        # Выбираем индексы батча\n",
    "        idx = np.random.randint(0, n, batch_size)\n",
    "        \n",
    "        # Запускаем сессии по расчету переменных\n",
    "        _, loss_val, w_val, b_val = sess.run([optimizer, loss, W, b], \n",
    "                                                 feed_dict={x_input: X_train[idx], \n",
    "                                                            y_input: y_train[idx]})\n",
    "        if i % 1000 == 0:\n",
    "            print('Iteration {}: loss = {}'.format(i, loss_val))\n",
    "\n",
    "    # Финальные предсказания модели\n",
    "    y_hat = sess.run(price, feed_dict={x_input: X_train})"
   ]
  },
  {
   "cell_type": "code",
   "execution_count": null,
   "metadata": {},
   "outputs": [],
   "source": [
    "w_val"
   ]
  },
  {
   "cell_type": "code",
   "execution_count": null,
   "metadata": {},
   "outputs": [],
   "source": [
    "b_val"
   ]
  },
  {
   "cell_type": "markdown",
   "metadata": {},
   "source": [
    "## Доп Материалы:\n",
    "* [Доступный видос](https://www.youtube.com/watch?v=sEciSlAClL8) \n",
    "* [Курс лекций в Stanford](https://web.stanford.edu/class/cs20si/syllabus.html)"
   ]
  },
  {
   "cell_type": "code",
   "execution_count": null,
   "metadata": {},
   "outputs": [],
   "source": []
  }
 ],
 "metadata": {
  "anaconda-cloud": {},
  "kernelspec": {
   "display_name": "Python 3",
   "language": "python",
   "name": "python3"
  },
  "language_info": {
   "codemirror_mode": {
    "name": "ipython",
    "version": 3
   },
   "file_extension": ".py",
   "mimetype": "text/x-python",
   "name": "python",
   "nbconvert_exporter": "python",
   "pygments_lexer": "ipython3",
   "version": "3.7.3"
  },
  "toc": {
   "base_numbering": 1,
   "nav_menu": {
    "height": "142px",
    "width": "252px"
   },
   "number_sections": false,
   "sideBar": true,
   "skip_h1_title": false,
   "title_cell": "Table of Contents",
   "title_sidebar": "Contents",
   "toc_cell": false,
   "toc_position": {},
   "toc_section_display": "block",
   "toc_window_display": false
  }
 },
 "nbformat": 4,
 "nbformat_minor": 2
}
